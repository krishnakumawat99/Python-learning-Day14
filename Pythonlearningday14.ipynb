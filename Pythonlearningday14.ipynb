{
  "nbformat": 4,
  "nbformat_minor": 0,
  "metadata": {
    "colab": {
      "provenance": []
    },
    "kernelspec": {
      "name": "python3",
      "display_name": "Python 3"
    },
    "language_info": {
      "name": "python"
    }
  },
  "cells": [
    {
      "cell_type": "code",
      "execution_count": null,
      "metadata": {
        "id": "3wLUr7kbOV7e"
      },
      "outputs": [],
      "source": [
        "# dictionary\n",
        "# list\n",
        "# set"
      ]
    },
    {
      "cell_type": "code",
      "source": [
        "# use loop on dictionary\n",
        "myvalue={10:\"krishna\",20:\"himanshu\"}\n",
        "\n",
        "for i in myvalue:\n",
        "    print(i)"
      ],
      "metadata": {
        "colab": {
          "base_uri": "https://localhost:8080/"
        },
        "id": "mQ897JVkarao",
        "outputId": "dcc93556-8c0f-48ce-aae9-0a11bd5152d6"
      },
      "execution_count": null,
      "outputs": [
        {
          "output_type": "stream",
          "name": "stdout",
          "text": [
            "10\n",
            "20\n"
          ]
        }
      ]
    },
    {
      "cell_type": "code",
      "source": [
        "myvalue={10:\"krishna\",20:\"himanshu\"}\n",
        "\n",
        "for i in myvalue:\n",
        "    print(i, myvalue[i])"
      ],
      "metadata": {
        "colab": {
          "base_uri": "https://localhost:8080/"
        },
        "id": "2ZgApoHCbTzn",
        "outputId": "4b914267-4837-4295-9389-569d5af84818"
      },
      "execution_count": null,
      "outputs": [
        {
          "output_type": "stream",
          "name": "stdout",
          "text": [
            "10 krishna\n",
            "20 himanshu\n"
          ]
        }
      ]
    },
    {
      "cell_type": "code",
      "source": [
        "for i in myvalue.keys():\n",
        "    print(i)"
      ],
      "metadata": {
        "colab": {
          "base_uri": "https://localhost:8080/"
        },
        "id": "tPwzd8fkbOSo",
        "outputId": "507b421b-0d37-4cce-e894-dfa6c8bde8b4"
      },
      "execution_count": null,
      "outputs": [
        {
          "output_type": "stream",
          "name": "stdout",
          "text": [
            "10\n",
            "20\n"
          ]
        }
      ]
    },
    {
      "cell_type": "code",
      "source": [
        "for i in myvalue.values():\n",
        "    print(i)"
      ],
      "metadata": {
        "colab": {
          "base_uri": "https://localhost:8080/"
        },
        "id": "iT9MSxc9a7wd",
        "outputId": "04b503f1-91b7-4d1d-f493-55fef07a4a30"
      },
      "execution_count": null,
      "outputs": [
        {
          "output_type": "stream",
          "name": "stdout",
          "text": [
            "krishna\n",
            "himanshu\n"
          ]
        }
      ]
    },
    {
      "cell_type": "code",
      "source": [
        "myvalue.items() #[(10,\"krishna\"),(20,\"himanshu\")]"
      ],
      "metadata": {
        "colab": {
          "base_uri": "https://localhost:8080/"
        },
        "id": "lsWzJ3w0a_Az",
        "outputId": "6b26172e-1005-4ce5-96bb-4380ce2f68b9"
      },
      "execution_count": null,
      "outputs": [
        {
          "output_type": "execute_result",
          "data": {
            "text/plain": [
              "dict_items([(10, 'krishna'), (20, 'himanshu')])"
            ]
          },
          "metadata": {},
          "execution_count": 6
        }
      ]
    },
    {
      "cell_type": "code",
      "source": [
        "# loop on set\n",
        "for i in {10,20,30,\"a\",40}:\n",
        "  print(i)"
      ],
      "metadata": {
        "colab": {
          "base_uri": "https://localhost:8080/"
        },
        "id": "bu8BpB-ybq5R",
        "outputId": "8cc7ad1f-619f-45f2-ebac-12323a85881f"
      },
      "execution_count": null,
      "outputs": [
        {
          "output_type": "stream",
          "name": "stdout",
          "text": [
            "40\n",
            "10\n",
            "a\n",
            "20\n",
            "30\n"
          ]
        }
      ]
    },
    {
      "cell_type": "code",
      "source": [
        "# max, min, second max, 2 value=> target"
      ],
      "metadata": {
        "id": "_dMVTyLXb6M9"
      },
      "execution_count": null,
      "outputs": []
    },
    {
      "cell_type": "code",
      "source": [
        "# valid paranthesis\n",
        "\n",
        "data=\"()\"\n",
        "for char in data:\n",
        "  if char==\"(\":\n",
        "    print(char)"
      ],
      "metadata": {
        "colab": {
          "base_uri": "https://localhost:8080/"
        },
        "id": "6feR1CSScX18",
        "outputId": "847fe352-7c61-4583-d232-5ac75f71b7d0"
      },
      "execution_count": null,
      "outputs": [
        {
          "output_type": "stream",
          "name": "stdout",
          "text": [
            "(\n"
          ]
        }
      ]
    },
    {
      "cell_type": "code",
      "source": [
        "s=\"(){}\"\n",
        "mylist=[]\n",
        "for char in s:\n",
        "    if char==\"(\" or char==\"{\":\n",
        "        mylist.append(char)\n",
        "\n",
        "print(mylist)"
      ],
      "metadata": {
        "colab": {
          "base_uri": "https://localhost:8080/"
        },
        "id": "tqkFx4pleA2w",
        "outputId": "a50c284c-8349-4111-d4c6-77548c94f443"
      },
      "execution_count": null,
      "outputs": [
        {
          "output_type": "stream",
          "name": "stdout",
          "text": [
            "['(', '{']\n"
          ]
        }
      ]
    },
    {
      "cell_type": "code",
      "source": [
        "s=\"{()}\"\n",
        "mylist=[]\n",
        "for char in s:\n",
        "    if char==\"(\" or char==\"{\":\n",
        "        mylist.append(char)\n",
        "\n",
        "print(mylist)"
      ],
      "metadata": {
        "colab": {
          "base_uri": "https://localhost:8080/"
        },
        "id": "29kmlWhHeq-v",
        "outputId": "b77d5f42-9c34-4193-fa8b-c6480d83b15d"
      },
      "execution_count": null,
      "outputs": [
        {
          "output_type": "stream",
          "name": "stdout",
          "text": [
            "['{', '(']\n"
          ]
        }
      ]
    },
    {
      "cell_type": "code",
      "source": [
        "s=\"()\"\n",
        "mylist=[]\n",
        "for char in s:\n",
        "    if char==\"(\" or char==\"{\":\n",
        "        mylist.append(char)\n",
        "    else:\n",
        "      if char==\")\" and \"(\"==mylist[-1]:\n",
        "        print(\"Vaild string\")\n",
        "\n",
        "print(mylist)"
      ],
      "metadata": {
        "colab": {
          "base_uri": "https://localhost:8080/"
        },
        "id": "EvBc4HLBfXJv",
        "outputId": "d0e28023-367a-48d7-a209-754400673f40"
      },
      "execution_count": null,
      "outputs": [
        {
          "output_type": "stream",
          "name": "stdout",
          "text": [
            "Vaild string\n",
            "['(']\n"
          ]
        }
      ]
    },
    {
      "cell_type": "code",
      "source": [
        "s=\"(}\"\n",
        "mylist=[]\n",
        "for char in s:\n",
        "    if char==\"(\" or char==\"{\":\n",
        "        mylist.append(char)\n",
        "    else:\n",
        "      if char==\")\" and \"(\"==mylist[-1]:\n",
        "        print(\"Vaild string\")\n",
        "      elif char==\"}\" and \"{\"==mylist[-1]:\n",
        "        print(\"Vaild string\")\n",
        "      else:\n",
        "        print(\"Invalid string\")\n",
        "\n",
        "\n",
        "print(mylist)"
      ],
      "metadata": {
        "colab": {
          "base_uri": "https://localhost:8080/"
        },
        "id": "c56jN_gKgUrH",
        "outputId": "b91757c9-4d1e-45a5-a265-37ac1a322797"
      },
      "execution_count": null,
      "outputs": [
        {
          "output_type": "stream",
          "name": "stdout",
          "text": [
            "Invalid string\n",
            "['(']\n"
          ]
        }
      ]
    },
    {
      "cell_type": "code",
      "source": [
        "s=\"{()}\"\n",
        "mylist=[]\n",
        "for char in s:\n",
        "    if char==\"(\" or char==\"{\":\n",
        "        mylist.append(char)\n",
        "    else:\n",
        "      if char==\")\" and \"(\"==mylist.pop(): #\"(\"==(\n",
        "        print(\"Vaild string\")\n",
        "      elif char==\"}\" and \"{\"==mylist.pop(): #\"{\"\n",
        "        print(\"Vaild string\")\n",
        "      else:\n",
        "        print(\"Invalid string\")\n",
        "\n",
        "\n",
        "print(mylist)"
      ],
      "metadata": {
        "colab": {
          "base_uri": "https://localhost:8080/"
        },
        "id": "IZH2iY8Eg2K0",
        "outputId": "a1a39c36-40c6-4f06-c586-0626cb07092f"
      },
      "execution_count": null,
      "outputs": [
        {
          "output_type": "stream",
          "name": "stdout",
          "text": [
            "Vaild string\n",
            "Vaild string\n",
            "[]\n"
          ]
        }
      ]
    },
    {
      "cell_type": "code",
      "source": [
        "s=\"{()}\"\n",
        "mylist=[]\n",
        "x=False\n",
        "for char in s:\n",
        "    if char==\"(\" or char==\"{\":\n",
        "        mylist.append(char)\n",
        "    else:\n",
        "      if char==\")\" and \"(\"==mylist.pop(): #\"(\"==(\n",
        "        x=True\n",
        "      elif char==\"}\" and \"{\"==mylist.pop(): #\"{\"\n",
        "        x=True\n",
        "      else:\n",
        "        x=False\n",
        "\n",
        "if x==True:\n",
        "  print(\"Vaild string\")\n",
        "else:\n",
        "  print(\"Invalid string\")"
      ],
      "metadata": {
        "colab": {
          "base_uri": "https://localhost:8080/"
        },
        "id": "RLa15Zwmh0Te",
        "outputId": "6077f278-1b73-4c20-cd08-60b0a76618d4"
      },
      "execution_count": null,
      "outputs": [
        {
          "output_type": "stream",
          "name": "stdout",
          "text": [
            "Vaild string\n"
          ]
        }
      ]
    },
    {
      "cell_type": "code",
      "source": [
        "s=input(\"Enter string\")\n",
        "mylist=[]\n",
        "x=False\n",
        "for char in s:\n",
        "    if char==\"(\" or char==\"{\":\n",
        "        mylist.append(char)\n",
        "    elif(len(mylist)>0):\n",
        "\n",
        "      if char==\")\" and \"(\"==mylist.pop(): #\"(\"==(\n",
        "        x=True\n",
        "      elif char==\"}\" and \"{\"==mylist.pop(): #\"{\"\n",
        "        x=True\n",
        "      else:\n",
        "        x=False\n",
        "\n",
        "if x==True:\n",
        "  print(\"Vaild string\")\n",
        "else:\n",
        "  print(\"Invalid string\")"
      ],
      "metadata": {
        "colab": {
          "base_uri": "https://localhost:8080/"
        },
        "id": "0xGUTntbjaau",
        "outputId": "b71f1f36-3278-460f-e177-bd436fdc0397"
      },
      "execution_count": null,
      "outputs": [
        {
          "output_type": "stream",
          "name": "stdout",
          "text": [
            "Enter string() {} []\n",
            "Vaild string\n"
          ]
        }
      ]
    },
    {
      "cell_type": "code",
      "source": [
        "# pascal tringle"
      ],
      "metadata": {
        "id": "say2jIeyj9zE"
      },
      "execution_count": null,
      "outputs": []
    },
    {
      "cell_type": "code",
      "source": [
        "for i in range(1,6):\n",
        "  for j in range(i,6):\n",
        "    print(\" \",end=\"\")\n",
        "  for k in range(i):\n",
        "    print(\"*\",end=\" \")\n",
        "  print()"
      ],
      "metadata": {
        "colab": {
          "base_uri": "https://localhost:8080/"
        },
        "id": "cHKSx1yjofWS",
        "outputId": "b00bba0b-d528-4ce9-ca28-0e10135e5949"
      },
      "execution_count": null,
      "outputs": [
        {
          "output_type": "stream",
          "name": "stdout",
          "text": [
            "     * \n",
            "    * * \n",
            "   * * * \n",
            "  * * * * \n",
            " * * * * * \n"
          ]
        }
      ]
    },
    {
      "cell_type": "code",
      "source": [
        "n = 5\n",
        "for i in range(n):\n",
        "    for j in range(n - i - 1):\n",
        "        print(\" \", end=\"\")\n",
        "    for j in range(i + 1):\n",
        "        if j == 0 or j == i:\n",
        "            print(1, end=\" \")\n",
        "        else:\n",
        "            print(\"*\",end=\" \")\n",
        "    print()"
      ],
      "metadata": {
        "colab": {
          "base_uri": "https://localhost:8080/"
        },
        "id": "j_5X-sroogw_",
        "outputId": "b44b6e0c-a0c5-41f2-f38b-8bb9bd2b7912"
      },
      "execution_count": null,
      "outputs": [
        {
          "output_type": "stream",
          "name": "stdout",
          "text": [
            "    1 \n",
            "   1 1 \n",
            "  1 * 1 \n",
            " 1 * * 1 \n",
            "1 * * * 1 \n"
          ]
        }
      ]
    },
    {
      "cell_type": "code",
      "source": [
        "mylist=[]\n",
        "for i in range(1,6):\n",
        "  temp=[]\n",
        "  for j in range(i,5):\n",
        "    print(\"-\",end=\"\")\n",
        "\n",
        "  for k in range(1,i+1):\n",
        "    if k==1 or k==i:\n",
        "      temp.append(1)\n",
        "    else:\n",
        "      temp.append(\"*\")\n",
        "  print(temp)\n",
        "  mylist.append(temp)\n",
        "  print(\"\")\n",
        "#print(mylist)"
      ],
      "metadata": {
        "colab": {
          "base_uri": "https://localhost:8080/"
        },
        "id": "DpHSt8AppNDM",
        "outputId": "1ce6b34e-3961-4dbc-a01a-fcc37658f8c6"
      },
      "execution_count": null,
      "outputs": [
        {
          "output_type": "stream",
          "name": "stdout",
          "text": [
            "----[1]\n",
            "\n",
            "---[1, 1]\n",
            "\n",
            "--[1, '*', 1]\n",
            "\n",
            "-[1, '*', '*', 1]\n",
            "\n",
            "[1, '*', '*', '*', 1]\n",
            "\n"
          ]
        }
      ]
    },
    {
      "cell_type": "code",
      "source": [
        "mylist=[]\n",
        "for i in range(0,5):\n",
        "  temp=[]\n",
        "  for j in range(i,4):\n",
        "    print('-',end=\"\")\n",
        "\n",
        "  for k in range(0,i+1):\n",
        "    if k==0 or k==i:\n",
        "      temp.append(1)\n",
        "    else:\n",
        "      val=mylist[i-1][k] + mylist[i-1][k-1]\n",
        "      temp.append(val)\n",
        "  print(temp)\n",
        "  mylist.append(temp)\n",
        "  print(\"\")\n",
        "\n",
        "print(mylist)"
      ],
      "metadata": {
        "colab": {
          "base_uri": "https://localhost:8080/"
        },
        "id": "u6q-7PaoriFI",
        "outputId": "c715679d-c3b7-4fb6-e927-66e5ca12ae8a"
      },
      "execution_count": null,
      "outputs": [
        {
          "output_type": "stream",
          "name": "stdout",
          "text": [
            "----[1]\n",
            "\n",
            "---[1, 1]\n",
            "\n",
            "--[1, 2, 1]\n",
            "\n",
            "-[1, 3, 3, 1]\n",
            "\n",
            "[1, 4, 6, 4, 1]\n",
            "\n",
            "[[1], [1, 1], [1, 2, 1], [1, 3, 3, 1], [1, 4, 6, 4, 1]]\n"
          ]
        }
      ]
    },
    {
      "cell_type": "code",
      "source": [
        "mylist=[]\n",
        "for i in range(0,5):\n",
        "  temp=[]\n",
        "  for j in range(i,4):\n",
        "    print(' ',end=\"\")\n",
        "\n",
        "  for k in range(0,i+1):\n",
        "    if k==0 or k==i:\n",
        "      temp.append(1)\n",
        "    else:\n",
        "      val=mylist[i-1][k] + mylist[i-1][k-1]\n",
        "      temp.append(val)\n",
        "  print(temp)\n",
        "  mylist.append(temp)\n",
        "  print(\"\")\n",
        "\n",
        "print(mylist)"
      ],
      "metadata": {
        "colab": {
          "base_uri": "https://localhost:8080/"
        },
        "id": "Dl3lV6z3tFaX",
        "outputId": "5323525c-128f-4e40-b7d1-7de334e4b81b"
      },
      "execution_count": null,
      "outputs": [
        {
          "output_type": "stream",
          "name": "stdout",
          "text": [
            "    [1]\n",
            "\n",
            "   [1, 1]\n",
            "\n",
            "  [1, 2, 1]\n",
            "\n",
            " [1, 3, 3, 1]\n",
            "\n",
            "[1, 4, 6, 4, 1]\n",
            "\n"
          ]
        }
      ]
    },
    {
      "cell_type": "code",
      "source": [
        "# number to roman"
      ],
      "metadata": {
        "id": "qUZyxDXtv3CT"
      },
      "execution_count": null,
      "outputs": []
    }
  ]
}